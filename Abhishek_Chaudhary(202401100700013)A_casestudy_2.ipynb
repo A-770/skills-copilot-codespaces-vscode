{
  "nbformat": 4,
  "nbformat_minor": 0,
  "metadata": {
    "colab": {
      "provenance": [],
      "authorship_tag": "ABX9TyP7cSWyfuNwcfgWfF10zWtm",
      "include_colab_link": true
    },
    "kernelspec": {
      "name": "python3",
      "display_name": "Python 3"
    },
    "language_info": {
      "name": "python"
    }
  },
  "cells": [
    {
      "cell_type": "markdown",
      "metadata": {
        "id": "view-in-github",
        "colab_type": "text"
      },
      "source": [
        "<a href=\"https://colab.research.google.com/github/A-770/skills-copilot-codespaces-vscode/blob/main/Abhishek_Chaudhary(202401100700013)A_casestudy_2.ipynb\" target=\"_parent\"><img src=\"https://colab.research.google.com/assets/colab-badge.svg\" alt=\"Open In Colab\"/></a>"
      ]
    },
    {
      "cell_type": "code",
      "source": [
        "\n",
        "# Case Study-2:LED brightness control\n",
        "def display_brightness(level):\n",
        "    \"\"\"Display brightness using a text-based bar.\"\"\"\n",
        "    bar = \"#\" * (level // 10) + \"-\" * ((100 - level) // 10)\n",
        "    print(f\"Brightness: [{bar}] {level}%\")\n",
        "\n",
        "def main():\n",
        "    min_brightness = 0\n",
        "    max_brightness = 100\n",
        "    step = 10\n",
        "    brightness = 25  # Initial brightness level\n",
        "\n",
        "    print(\"LED Brightness Control\")\n",
        "    print(\"Commands: + to increase, - to decrease, q to quit\")\n",
        "\n",
        "    while True:\n",
        "        display_brightness(brightness)\n",
        "        command = input(\"Enter command (+/-/q): \").strip()\n",
        "\n",
        "        if command == \"+\":\n",
        "            if brightness + step <= max_brightness:\n",
        "                brightness += step\n",
        "            else:\n",
        "                print(\"Brightness is at maximum!\")\n",
        "        elif command == \"-\":\n",
        "            if brightness - step >= min_brightness:\n",
        "                brightness -= step\n",
        "            else:\n",
        "                print(\"Brightness is at minimum!\")\n",
        "        elif command == \"q\":\n",
        "            print(\"Exiting brightness control.\")\n",
        "            break\n",
        "        else:\n",
        "            print(\"Invalid command! Use + to increase, - to decrease, q to quit.\")\n",
        "\n",
        "if __name__ == \"__main__\":\n",
        "    main()\n"
      ],
      "metadata": {
        "colab": {
          "base_uri": "https://localhost:8080/"
        },
        "id": "PU0PrigrNd10",
        "outputId": "4ea520e0-1f79-42bf-d5dd-38b0744b82db"
      },
      "execution_count": null,
      "outputs": [
        {
          "metadata": {
            "tags": null
          },
          "name": "stdout",
          "output_type": "stream",
          "text": [
            "LED Brightness Control\n",
            "Commands: + to increase, - to decrease, q to quit\n",
            "Brightness: [##-------] 25%\n",
            "Brightness: [###------] 35%\n",
            "Brightness: [####-----] 45%\n",
            "Brightness: [#####----] 55%\n",
            "Brightness: [######---] 65%\n",
            "Brightness: [#######--] 75%\n",
            "Brightness: [########-] 85%\n",
            "Brightness: [#########] 95%\n",
            "Brightness is at maximum!\n",
            "Brightness: [#########] 95%\n",
            "Invalid command! Use + to increase, - to decrease, q to quit.\n",
            "Brightness: [#########] 95%\n"
          ]
        }
      ]
    }
  ]
}
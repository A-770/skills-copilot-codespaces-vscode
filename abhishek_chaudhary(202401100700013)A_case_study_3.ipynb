{
  "nbformat": 4,
  "nbformat_minor": 0,
  "metadata": {
    "colab": {
      "provenance": [],
      "authorship_tag": "ABX9TyORVvhE06XxrzTTGYNfnMRE",
      "include_colab_link": true
    },
    "kernelspec": {
      "name": "python3",
      "display_name": "Python 3"
    },
    "language_info": {
      "name": "python"
    }
  },
  "cells": [
    {
      "cell_type": "markdown",
      "metadata": {
        "id": "view-in-github",
        "colab_type": "text"
      },
      "source": [
        "<a href=\"https://colab.research.google.com/github/A-770/skills-copilot-codespaces-vscode/blob/main/abhishek_chaudhary(202401100700013)A_case_study_3.ipynb\" target=\"_parent\"><img src=\"https://colab.research.google.com/assets/colab-badge.svg\" alt=\"Open In Colab\"/></a>"
      ]
    },
    {
      "cell_type": "markdown",
      "source": [
        "develop a function to monitor temperature & provide alert."
      ],
      "metadata": {
        "id": "PhjH_GO0NhH2"
      }
    },
    {
      "cell_type": "code",
      "source": [
        "import random\n",
        "def temperature_monitoring_alerts():\n",
        "  #get user input for range of temperature\n",
        "  lower_limit= float(input(\"enter the lower limit: \"))\n",
        "  upper_limit= float(input(\"enter the upper limit: \"))\n",
        "  temperature = round(random.uniform(lower_limit, upper_limit), 2)\n",
        "  #check temp alert\n",
        "  if temperature < lower_limit:\n",
        "    print(f\"alert_message : Temperature is too low!:{temperature}\")\n",
        "  elif temperature > upper_limit:\n",
        "    print(f\"alert_message : Temperature is too high!:{temperature}\")\n",
        "  else:\n",
        "    print(f\"Temperature is normal range:{temperature}\")\n",
        "\n",
        "\n",
        "temperature_monitoring_alerts()"
      ],
      "metadata": {
        "colab": {
          "base_uri": "https://localhost:8080/"
        },
        "id": "T15t-b8zOy9t",
        "outputId": "2590a39d-8355-4bb1-a93a-56a3a79b3c83"
      },
      "execution_count": 6,
      "outputs": [
        {
          "output_type": "stream",
          "name": "stdout",
          "text": [
            "enter the lower limit: 30\n",
            "enter the upper limit: 80\n",
            "Temperature is normal range:55.55\n"
          ]
        }
      ]
    }
  ]
}
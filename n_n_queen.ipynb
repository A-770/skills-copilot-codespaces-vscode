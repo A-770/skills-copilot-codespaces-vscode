{
  "nbformat": 4,
  "nbformat_minor": 0,
  "metadata": {
    "colab": {
      "provenance": [],
      "authorship_tag": "ABX9TyO1UmDVlRAmTa7Lj2FeTf62",
      "include_colab_link": true
    },
    "kernelspec": {
      "name": "python3",
      "display_name": "Python 3"
    },
    "language_info": {
      "name": "python"
    }
  },
  "cells": [
    {
      "cell_type": "markdown",
      "metadata": {
        "id": "view-in-github",
        "colab_type": "text"
      },
      "source": [
        "<a href=\"https://colab.research.google.com/github/A-770/skills-copilot-codespaces-vscode/blob/main/n_n_queen.ipynb\" target=\"_parent\"><img src=\"https://colab.research.google.com/assets/colab-badge.svg\" alt=\"Open In Colab\"/></a>"
      ]
    },
    {
      "cell_type": "code",
      "source": [
        "def solve_n_queens(n):\n",
        "    # Check if it's safe to place a queen\n",
        "    def is_safe(row, col, queens):\n",
        "        for r, c in queens:\n",
        "            if c == col or abs(r - row) == abs(c - col):\n",
        "                return False\n",
        "        return True\n",
        "\n",
        "    solutions = []\n",
        "\n",
        "    # Backtracking function\n",
        "    def backtrack(row, queens):\n",
        "        if row == n:  # All queens placed\n",
        "            solutions.append(list(queens))\n",
        "            return\n",
        "\n",
        "        for col in range(n):\n",
        "            if is_safe(row, col, queens):\n",
        "                queens.append((row, col))\n",
        "                backtrack(row + 1, queens)\n",
        "                queens.pop()  # backtrack\n",
        "\n",
        "    # Run solver\n",
        "    backtrack(0, [])\n",
        "\n",
        "    # Print solutions\n",
        "    print(f\"Total solutions for {n}x{n}: {len(solutions)}\\n\")\n",
        "    for sol in solutions:\n",
        "        board = [[\".\" for _ in range(n)] for _ in range(n)]\n",
        "        for row, col in sol:\n",
        "            board[row][col] = \"Q\"\n",
        "        for row in board:\n",
        "            print(\" \".join(row))\n",
        "        print(\"\\n\" + \"-\" * (2 * n - 1))\n",
        "\n",
        "\n",
        "#Main\n",
        "n = 4  # change n to test different sizes\n",
        "solve_n_queens(n)\n"
      ],
      "metadata": {
        "colab": {
          "base_uri": "https://localhost:8080/"
        },
        "id": "meMzgDmxzm6l",
        "outputId": "2bc9b03a-ff4a-433b-b58e-f7ca3b602ecb"
      },
      "execution_count": 16,
      "outputs": [
        {
          "output_type": "stream",
          "name": "stdout",
          "text": [
            "Total solutions for 4x4: 2\n",
            "\n",
            ". Q . .\n",
            ". . . Q\n",
            "Q . . .\n",
            ". . Q .\n",
            "\n",
            "-------\n",
            ". . Q .\n",
            "Q . . .\n",
            ". . . Q\n",
            ". Q . .\n",
            "\n",
            "-------\n"
          ]
        }
      ]
    }
  ]
}
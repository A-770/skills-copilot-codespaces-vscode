{
  "nbformat": 4,
  "nbformat_minor": 0,
  "metadata": {
    "colab": {
      "provenance": [],
      "authorship_tag": "ABX9TyPz0+cqv73lRW/WrnT76oXx",
      "include_colab_link": true
    },
    "kernelspec": {
      "name": "python3",
      "display_name": "Python 3"
    },
    "language_info": {
      "name": "python"
    }
  },
  "cells": [
    {
      "cell_type": "markdown",
      "metadata": {
        "id": "view-in-github",
        "colab_type": "text"
      },
      "source": [
        "<a href=\"https://colab.research.google.com/github/A-770/skills-copilot-codespaces-vscode/blob/main/sudoko.ipynb\" target=\"_parent\"><img src=\"https://colab.research.google.com/assets/colab-badge.svg\" alt=\"Open In Colab\"/></a>"
      ]
    },
    {
      "cell_type": "code",
      "execution_count": 3,
      "metadata": {
        "colab": {
          "base_uri": "https://localhost:8080/"
        },
        "id": "NhUFFWidZecf",
        "outputId": "e05b5227-c5d2-4ff3-e005-fd1639727481"
      },
      "outputs": [
        {
          "output_type": "stream",
          "name": "stdout",
          "text": [
            "Initial Board:\n",
            "5 3 . . 7 . . . .\n",
            "6 . . 1 9 5 . . .\n",
            ". 9 8 . . . . 6 .\n",
            "8 . . . 6 . . . 3\n",
            "4 . . 8 . 3 . . 1\n",
            "7 . . . 2 . . . 6\n",
            ". 6 . . . . 2 8 .\n",
            ". . . 4 1 9 . . 5\n",
            ". . . . 8 . . 7 9\n",
            "Solved Board:\n",
            "5 3 4 6 7 8 9 1 2\n",
            "6 7 2 1 9 5 3 4 8\n",
            "1 9 8 3 4 2 5 6 7\n",
            "8 5 9 7 6 1 4 2 3\n",
            "4 2 6 8 5 3 7 9 1\n",
            "7 1 3 9 2 4 8 5 6\n",
            "9 6 1 5 3 7 2 8 4\n",
            "2 8 7 4 1 9 6 3 5\n",
            "3 4 5 2 8 6 1 7 9\n"
          ]
        }
      ],
      "source": [
        "def print_board(board):\n",
        "    for row in board:\n",
        "        print(\" \".join(str(num) if num != 0 else \".\" for num in row))\n",
        "\n",
        "puzzle = [\n",
        "    [5, 3, 0, 0, 7, 0, 0, 0, 0],\n",
        "    [6, 0, 0, 1, 9, 5, 0, 0, 0],\n",
        "    [0, 9, 8, 0, 0, 0, 0, 6, 0],\n",
        "    [8, 0, 0, 0, 6, 0, 0, 0, 3],\n",
        "    [4, 0, 0, 8, 0, 3, 0, 0, 1],\n",
        "    [7, 0, 0, 0, 2, 0, 0, 0, 6],\n",
        "    [0, 6, 0, 0, 0, 0, 2, 8, 0],\n",
        "    [0, 0, 0, 4, 1, 9, 0, 0, 5],\n",
        "    [0, 0, 0, 0, 8, 0, 0, 7, 9],\n",
        "]\n",
        "\n",
        "def issafe(puzzle,row,column,digit):\n",
        "    for i in range(9):\n",
        "        if(puzzle[row][i]==digit):\n",
        "            return False\n",
        "    for i in range(9):\n",
        "        if(puzzle[i][column]==digit):\n",
        "            return False\n",
        "    sr=(row//3)*3\n",
        "    sc=(column//3)*3\n",
        "    for i in range(sr,sr+3):\n",
        "        for j in range(sc,sc+3):\n",
        "            if(puzzle[i][j]==digit):\n",
        "                return False\n",
        "    return True\n",
        "\n",
        "def SS(puzzle,row,column):\n",
        "    if(row==9):\n",
        "        return True\n",
        "    nextrow=row\n",
        "    nextcol=column+1\n",
        "    if(nextcol==9):\n",
        "        nextrow=row+1\n",
        "        nextcol=0\n",
        "    if(puzzle[row][column]!=0):\n",
        "        return SS(puzzle,nextrow,nextcol)\n",
        "    for i in range(1,10,1):\n",
        "        if(issafe(puzzle,row,column,i)):\n",
        "            puzzle[row][column]=i\n",
        "            if SS(puzzle, nextrow, nextcol):\n",
        "                return True\n",
        "            puzzle[row][column] = 0\n",
        "    return False\n",
        "\n",
        "print(\"Initial Board:\")\n",
        "print_board(puzzle)\n",
        "\n",
        "if SS(puzzle, 0, 0):\n",
        "    print(\"Solved Board:\")\n",
        "    print_board(puzzle)\n",
        "else:\n",
        "    print(\"No solution exists.\")\n",
        "\n",
        "#Sudoko solely by Nitin Kumar Pandey"
      ]
    }
  ]
}